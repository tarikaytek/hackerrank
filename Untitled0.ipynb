{
  "nbformat": 4,
  "nbformat_minor": 0,
  "metadata": {
    "colab": {
      "provenance": [],
      "authorship_tag": "ABX9TyMQsC7d1/GCUU7BcNzfqb6g",
      "include_colab_link": true
    },
    "kernelspec": {
      "name": "python3",
      "display_name": "Python 3"
    },
    "language_info": {
      "name": "python"
    },
    "accelerator": "GPU",
    "gpuClass": "standard"
  },
  "cells": [
    {
      "cell_type": "markdown",
      "metadata": {
        "id": "view-in-github",
        "colab_type": "text"
      },
      "source": [
        "<a href=\"https://colab.research.google.com/github/tarikaytek/hackerrank/blob/main/Untitled0.ipynb\" target=\"_parent\"><img src=\"https://colab.research.google.com/assets/colab-badge.svg\" alt=\"Open In Colab\"/></a>"
      ]
    },
    {
      "cell_type": "code",
      "execution_count": 85,
      "metadata": {
        "id": "UpHBHugbExI2"
      },
      "outputs": [],
      "source": [
        "import tensorflow as tf\n",
        "import keras\n",
        "from sklearn.model_selection import train_test_split\n",
        "from keras import layers\n",
        "from keras.models import Sequential\n",
        "from keras.datasets import cifar10\n",
        "import numpy as np"
      ]
    },
    {
      "cell_type": "code",
      "source": [
        "(x, y), (x_test, y_test) = cifar10.load_data()\n",
        "\n",
        "x_train, x_val, y_train, y_val = train_test_split(x, y, test_size=.2, random_state=42)"
      ],
      "metadata": {
        "id": "KRuWGaBQEzsr"
      },
      "execution_count": 29,
      "outputs": []
    },
    {
      "cell_type": "code",
      "source": [
        "x_train.shape, x_val.shape, x_test.shape"
      ],
      "metadata": {
        "colab": {
          "base_uri": "https://localhost:8080/",
          "height": 0
        },
        "id": "vgYasXduPqwm",
        "outputId": "c97dd2c4-ec46-472c-b5b3-b83521b725c2"
      },
      "execution_count": 30,
      "outputs": [
        {
          "output_type": "execute_result",
          "data": {
            "text/plain": [
              "((40000, 32, 32, 3), (10000, 32, 32, 3), (10000, 32, 32, 3))"
            ]
          },
          "metadata": {},
          "execution_count": 30
        }
      ]
    },
    {
      "cell_type": "code",
      "source": [
        "#initalizing parameters and constant variables\n",
        "batch_size = 32\n",
        "num_classes = 10\n",
        "epochs = 20\n",
        "height = 32\n",
        "width = 32\n",
        "'''\n",
        "print(x_train.shape, y_train.shape, x_val.shape, y_val.shape)\n",
        "\n",
        "#one-hot encoding\n",
        "y_train = keras.utils.to_categorical(y_train, num_classes)\n",
        "y_val = keras.utils.to_categorical(y_val, num_classes)\n",
        "y_test = keras.utils.to_categorical(y_test, num_classes)\n",
        "print(x_train.shape, y_train.shape, x_val.shape, y_val.shape)'''\n"
      ],
      "metadata": {
        "colab": {
          "base_uri": "https://localhost:8080/",
          "height": 53
        },
        "id": "BFWOb4AAO4SG",
        "outputId": "f4289494-3efa-4d69-a75c-e9781d936fe7"
      },
      "execution_count": 31,
      "outputs": [
        {
          "output_type": "execute_result",
          "data": {
            "text/plain": [
              "'\\nprint(x_train.shape, y_train.shape, x_val.shape, y_val.shape)\\n\\n#one-hot encoding\\ny_train = keras.utils.to_categorical(y_train, num_classes)\\ny_val = keras.utils.to_categorical(y_val, num_classes)\\ny_test = keras.utils.to_categorical(y_test, num_classes)\\nprint(x_train.shape, y_train.shape, x_val.shape, y_val.shape)'"
            ],
            "application/vnd.google.colaboratory.intrinsic+json": {
              "type": "string"
            }
          },
          "metadata": {},
          "execution_count": 31
        }
      ]
    },
    {
      "cell_type": "code",
      "source": [
        "def define_model(num_conv_layers, filters, kernel_size):\n",
        "\n",
        "  model = Sequential([\n",
        "      #resizing and normalizing layers, it is needed as it has not done while loading the data\n",
        "      layers.Resizing(height,width),\n",
        "      layers.Rescaling(1./255, input_shape=(height, width, 3)),\n",
        "\n",
        "      #data augmentation\n",
        "      layers.RandomFlip(),\n",
        "      layers.RandomRotation(0.1),\n",
        "      layers.RandomZoom(0.1),\n",
        "  ])\n",
        "\n",
        "  #adding wanted layers\n",
        "  for _ in range(num_conv_layers):\n",
        "    model.add(layers.Conv2D(filters=filters, kernel_size=kernel_size, padding='same', activation='relu'))\n",
        "    model.add(layers.MaxPooling2D(pool_size=(2,2)))\n",
        "    model.add(layers.Dropout(0.2))\n",
        "\n",
        "  #adding other final layers\n",
        "  model.add(layers.Flatten())\n",
        "  model.add(layers.Dense(128, activation='relu'))\n",
        "  model.add(layers.Dense(num_classes, activation='softmax'))\n",
        "\n",
        "  #compiling model using adam optimizer and categorical cross entropy loss function\n",
        "  model.compile(optimizer='adam', loss=keras.losses.SparseCategoricalCrossentropy(from_logits=True), metrics='accuracy')\n",
        "  \n",
        "  return model\n",
        "  "
      ],
      "metadata": {
        "id": "ce2u_bVSQ0hG"
      },
      "execution_count": 79,
      "outputs": []
    },
    {
      "cell_type": "code",
      "source": [
        "model = define_model(5, 64, (5, 5))\n",
        "\n",
        "model.fit(x_train, y_train, batch_size=batch_size, epochs=epochs, validation_data=(x_val, y_val))"
      ],
      "metadata": {
        "colab": {
          "base_uri": "https://localhost:8080/",
          "height": 0
        },
        "id": "u5prdGuBeRBh",
        "outputId": "31536a98-c19c-41be-b0c1-f83673e031cb"
      },
      "execution_count": 38,
      "outputs": [
        {
          "output_type": "stream",
          "name": "stdout",
          "text": [
            "Model: \"sequential_14\"\n",
            "_________________________________________________________________\n",
            " Layer (type)                Output Shape              Param #   \n",
            "=================================================================\n",
            " resizing_14 (Resizing)      (None, 32, 32, 3)         0         \n",
            "                                                                 \n",
            " rescaling_14 (Rescaling)    (None, 32, 32, 3)         0         \n",
            "                                                                 \n",
            " random_flip_14 (RandomFlip)  (None, 32, 32, 3)        0         \n",
            "                                                                 \n",
            " random_rotation_14 (RandomR  (None, 32, 32, 3)        0         \n",
            " otation)                                                        \n",
            "                                                                 \n",
            " random_zoom_14 (RandomZoom)  (None, 32, 32, 3)        0         \n",
            "                                                                 \n",
            " conv2d_46 (Conv2D)          (None, 32, 32, 64)        4864      \n",
            "                                                                 \n",
            " max_pooling2d_41 (MaxPoolin  (None, 16, 16, 64)       0         \n",
            " g2D)                                                            \n",
            "                                                                 \n",
            " dropout_46 (Dropout)        (None, 16, 16, 64)        0         \n",
            "                                                                 \n",
            " conv2d_47 (Conv2D)          (None, 16, 16, 64)        102464    \n",
            "                                                                 \n",
            " max_pooling2d_42 (MaxPoolin  (None, 8, 8, 64)         0         \n",
            " g2D)                                                            \n",
            "                                                                 \n",
            " dropout_47 (Dropout)        (None, 8, 8, 64)          0         \n",
            "                                                                 \n",
            " conv2d_48 (Conv2D)          (None, 8, 8, 64)          102464    \n",
            "                                                                 \n",
            " max_pooling2d_43 (MaxPoolin  (None, 4, 4, 64)         0         \n",
            " g2D)                                                            \n",
            "                                                                 \n",
            " dropout_48 (Dropout)        (None, 4, 4, 64)          0         \n",
            "                                                                 \n",
            " conv2d_49 (Conv2D)          (None, 4, 4, 64)          102464    \n",
            "                                                                 \n",
            " max_pooling2d_44 (MaxPoolin  (None, 2, 2, 64)         0         \n",
            " g2D)                                                            \n",
            "                                                                 \n",
            " dropout_49 (Dropout)        (None, 2, 2, 64)          0         \n",
            "                                                                 \n",
            " conv2d_50 (Conv2D)          (None, 2, 2, 64)          102464    \n",
            "                                                                 \n",
            " max_pooling2d_45 (MaxPoolin  (None, 1, 1, 64)         0         \n",
            " g2D)                                                            \n",
            "                                                                 \n",
            " dropout_50 (Dropout)        (None, 1, 1, 64)          0         \n",
            "                                                                 \n",
            " flatten_14 (Flatten)        (None, 64)                0         \n",
            "                                                                 \n",
            " dense_28 (Dense)            (None, 128)               8320      \n",
            "                                                                 \n",
            " dense_29 (Dense)            (None, 10)                1290      \n",
            "                                                                 \n",
            "=================================================================\n",
            "Total params: 424,330\n",
            "Trainable params: 424,330\n",
            "Non-trainable params: 0\n",
            "_________________________________________________________________\n",
            "(40000, 32, 32, 3) (40000, 1) (10000, 32, 32, 3) (10000, 1)\n",
            "Epoch 1/20\n",
            "1250/1250 [==============================] - 39s 30ms/step - loss: 2.0299 - val_loss: 1.7593\n",
            "Epoch 2/20\n",
            "1250/1250 [==============================] - 38s 30ms/step - loss: 1.7731 - val_loss: 1.6932\n",
            "Epoch 3/20\n",
            "1250/1250 [==============================] - 38s 30ms/step - loss: 1.6815 - val_loss: 1.4963\n",
            "Epoch 4/20\n",
            "1250/1250 [==============================] - 38s 30ms/step - loss: 1.6302 - val_loss: 1.4854\n",
            "Epoch 5/20\n",
            "1250/1250 [==============================] - 37s 30ms/step - loss: 1.5963 - val_loss: 1.4647\n",
            "Epoch 6/20\n",
            "1250/1250 [==============================] - 37s 30ms/step - loss: 1.5643 - val_loss: 1.4351\n",
            "Epoch 7/20\n",
            "1250/1250 [==============================] - 39s 32ms/step - loss: 1.5516 - val_loss: 1.4266\n",
            "Epoch 8/20\n",
            "1250/1250 [==============================] - 37s 30ms/step - loss: 1.5305 - val_loss: 1.4104\n",
            "Epoch 9/20\n",
            "1250/1250 [==============================] - 37s 30ms/step - loss: 1.5116 - val_loss: 1.3468\n",
            "Epoch 10/20\n",
            "1250/1250 [==============================] - 38s 30ms/step - loss: 1.4973 - val_loss: 1.3615\n",
            "Epoch 11/20\n",
            "1250/1250 [==============================] - 37s 30ms/step - loss: 1.4872 - val_loss: 1.3786\n",
            "Epoch 12/20\n",
            "1250/1250 [==============================] - 37s 30ms/step - loss: 1.4746 - val_loss: 1.3534\n",
            "Epoch 13/20\n",
            "1250/1250 [==============================] - 37s 30ms/step - loss: 1.4642 - val_loss: 1.3286\n",
            "Epoch 14/20\n",
            "1250/1250 [==============================] - 38s 30ms/step - loss: 1.4638 - val_loss: 1.3131\n",
            "Epoch 15/20\n",
            "1250/1250 [==============================] - 40s 32ms/step - loss: 1.4499 - val_loss: 1.2904\n",
            "Epoch 16/20\n",
            "1250/1250 [==============================] - 37s 30ms/step - loss: 1.4409 - val_loss: 1.2804\n",
            "Epoch 17/20\n",
            "1250/1250 [==============================] - 37s 30ms/step - loss: 1.4301 - val_loss: 1.2841\n",
            "Epoch 18/20\n",
            "1250/1250 [==============================] - 37s 29ms/step - loss: 1.4242 - val_loss: 1.2850\n",
            "Epoch 19/20\n",
            "1250/1250 [==============================] - 37s 30ms/step - loss: 1.4123 - val_loss: 1.2428\n",
            "Epoch 20/20\n",
            "1250/1250 [==============================] - 37s 30ms/step - loss: 1.4105 - val_loss: 1.2847\n"
          ]
        },
        {
          "output_type": "execute_result",
          "data": {
            "text/plain": [
              "<keras.callbacks.History at 0x7ff3f4c93a60>"
            ]
          },
          "metadata": {},
          "execution_count": 38
        }
      ]
    },
    {
      "cell_type": "code",
      "source": [
        "model.evaluate(x_val, y_val)"
      ],
      "metadata": {
        "colab": {
          "base_uri": "https://localhost:8080/",
          "height": 0
        },
        "id": "TLvIDz0Uj25t",
        "outputId": "05dba10a-166e-49a6-f951-4b448e5aa7fd"
      },
      "execution_count": 28,
      "outputs": [
        {
          "output_type": "stream",
          "name": "stdout",
          "text": [
            "313/313 [==============================] - 1s 3ms/step - loss: 1.2575\n"
          ]
        },
        {
          "output_type": "execute_result",
          "data": {
            "text/plain": [
              "1.2574938535690308"
            ]
          },
          "metadata": {},
          "execution_count": 28
        }
      ]
    },
    {
      "cell_type": "code",
      "source": [
        "models = []\n",
        "\n",
        "# 3 Conv layer model with 32 (3,3) filters\n",
        "model = define_model(num_conv_layers= 3, filters=32, kernel_size=(3, 3))\n",
        "hist = model.fit(x_train, y_train, batch_size=batch_size, epochs=epochs, validation_data=(x_val, y_val))\n",
        "models.append((model, hist))\n",
        "\n",
        "\n",
        "# 3 Conv layer model with 32 (5, 5) filters\n",
        "model = define_model(num_conv_layers= 3, filters=32, kernel_size=(5, 5))\n",
        "model.fit(x_train, y_train, batch_size=batch_size, epochs=epochs, validation_data=(x_val, y_val))\n",
        "models.append((model, hist))\n",
        "\n",
        "# 3 Conv layer model with 64 (3,3) filters\n",
        "model = define_model(num_conv_layers= 3, filters=64, kernel_size=(3, 3))\n",
        "model.fit(x_train, y_train, batch_size=batch_size, epochs=epochs, validation_data=(x_val, y_val))\n",
        "models.append((model, hist))\n",
        "\n",
        "# 3 Conv layer model with 64 (5, 5) filters\n",
        "model = define_model(num_conv_layers= 3, filters=64, kernel_size=(5, 5))\n",
        "model.fit(x_train, y_train, batch_size=batch_size, epochs=epochs, validation_data=(x_val, y_val))\n",
        "models.append((model, hist))\n",
        "\n",
        "# 5 Conv layer model with 32 (3,3) filters\n",
        "model = define_model(num_conv_layers= 5, filters=32, kernel_size=(3, 3))\n",
        "model.fit(x_train, y_train, batch_size=batch_size, epochs=epochs, validation_data=(x_val, y_val))\n",
        "models.append((model, hist))\n",
        "\n",
        "# 5 Conv layer model with 32 (5, 5) filters\n",
        "model = define_model(num_conv_layers= 5, filters=32, kernel_size=(5, 5))\n",
        "model.fit(x_train, y_train, batch_size=batch_size, epochs=epochs, validation_data=(x_val, y_val))\n",
        "models.append((model, hist))\n",
        "\n",
        "# 5 Conv layer model with 64 (3,3) filters\n",
        "model = define_model(num_conv_layers= 5, filters=64, kernel_size=(3, 3))\n",
        "model.fit(x_train, y_train, batch_size=batch_size, epochs=epochs, validation_data=(x_val, y_val))\n",
        "models.append((model, hist))\n",
        "\n",
        "# 5 Conv layer model with 64 (5, 5) filters\n",
        "model = define_model(num_conv_layers= 5, filters=64, kernel_size=(5, 5))\n",
        "model.fit(x_train, y_train, batch_size=batch_size, epochs=epochs, validation_data=(x_val, y_val))\n",
        "models.append((model, hist))\n"
      ],
      "metadata": {
        "colab": {
          "base_uri": "https://localhost:8080/",
          "height": 0
        },
        "id": "Vcc0XMumtsA3",
        "outputId": "1a5c2a09-5311-404e-83fc-60b1d32d8230"
      },
      "execution_count": 39,
      "outputs": [
        {
          "output_type": "stream",
          "name": "stdout",
          "text": [
            "Epoch 1/20\n"
          ]
        },
        {
          "output_type": "stream",
          "name": "stderr",
          "text": [
            "/usr/local/lib/python3.8/dist-packages/tensorflow/python/util/dispatch.py:1082: UserWarning: \"`sparse_categorical_crossentropy` received `from_logits=True`, but the `output` argument was produced by a sigmoid or softmax activation and thus does not represent logits. Was this intended?\"\n",
            "  return dispatch_target(*args, **kwargs)\n"
          ]
        },
        {
          "output_type": "stream",
          "name": "stdout",
          "text": [
            "1250/1250 [==============================] - 36s 27ms/step - loss: 1.8898 - val_loss: 1.5613\n",
            "Epoch 2/20\n",
            "1250/1250 [==============================] - 33s 26ms/step - loss: 1.6179 - val_loss: 1.4954\n",
            "Epoch 3/20\n",
            "1250/1250 [==============================] - 33s 27ms/step - loss: 1.5294 - val_loss: 1.4290\n",
            "Epoch 4/20\n",
            "1250/1250 [==============================] - 33s 27ms/step - loss: 1.4795 - val_loss: 1.3870\n",
            "Epoch 5/20\n",
            "1250/1250 [==============================] - 32s 26ms/step - loss: 1.4496 - val_loss: 1.3177\n",
            "Epoch 6/20\n",
            "1250/1250 [==============================] - 32s 26ms/step - loss: 1.4202 - val_loss: 1.3216\n",
            "Epoch 7/20\n",
            "1250/1250 [==============================] - 33s 26ms/step - loss: 1.3944 - val_loss: 1.2732\n",
            "Epoch 8/20\n",
            "1250/1250 [==============================] - 32s 26ms/step - loss: 1.3698 - val_loss: 1.2296\n",
            "Epoch 9/20\n",
            "1250/1250 [==============================] - 36s 29ms/step - loss: 1.3584 - val_loss: 1.2098\n",
            "Epoch 10/20\n",
            "1250/1250 [==============================] - 33s 27ms/step - loss: 1.3489 - val_loss: 1.2279\n",
            "Epoch 11/20\n",
            "1250/1250 [==============================] - 33s 26ms/step - loss: 1.3342 - val_loss: 1.2763\n",
            "Epoch 12/20\n",
            "1250/1250 [==============================] - 33s 27ms/step - loss: 1.3124 - val_loss: 1.2282\n",
            "Epoch 13/20\n",
            "1250/1250 [==============================] - 33s 27ms/step - loss: 1.3112 - val_loss: 1.1605\n",
            "Epoch 14/20\n",
            "1250/1250 [==============================] - 33s 27ms/step - loss: 1.2988 - val_loss: 1.1761\n",
            "Epoch 15/20\n",
            "1250/1250 [==============================] - 33s 26ms/step - loss: 1.2829 - val_loss: 1.1994\n",
            "Epoch 16/20\n",
            "1250/1250 [==============================] - 32s 26ms/step - loss: 1.2761 - val_loss: 1.1540\n",
            "Epoch 17/20\n",
            "1250/1250 [==============================] - 35s 28ms/step - loss: 1.2712 - val_loss: 1.1643\n",
            "Epoch 18/20\n",
            "1250/1250 [==============================] - 32s 26ms/step - loss: 1.2737 - val_loss: 1.2010\n",
            "Epoch 19/20\n",
            "1250/1250 [==============================] - 32s 26ms/step - loss: 1.2550 - val_loss: 1.1899\n",
            "Epoch 20/20\n",
            "1250/1250 [==============================] - 32s 26ms/step - loss: 1.2480 - val_loss: 1.1782\n",
            "Epoch 1/20\n",
            "1250/1250 [==============================] - 35s 27ms/step - loss: 1.8847 - val_loss: 1.6085\n",
            "Epoch 2/20\n",
            "1250/1250 [==============================] - 34s 27ms/step - loss: 1.6356 - val_loss: 1.5308\n",
            "Epoch 3/20\n",
            "1250/1250 [==============================] - 33s 27ms/step - loss: 1.5572 - val_loss: 1.4281\n",
            "Epoch 4/20\n",
            "1250/1250 [==============================] - 33s 27ms/step - loss: 1.5189 - val_loss: 1.4008\n",
            "Epoch 5/20\n",
            "1250/1250 [==============================] - 33s 27ms/step - loss: 1.4805 - val_loss: 1.4129\n",
            "Epoch 6/20\n",
            "1250/1250 [==============================] - 36s 29ms/step - loss: 1.4577 - val_loss: 1.3275\n",
            "Epoch 7/20\n",
            "1250/1250 [==============================] - 33s 27ms/step - loss: 1.4407 - val_loss: 1.3917\n",
            "Epoch 8/20\n",
            "1250/1250 [==============================] - 33s 26ms/step - loss: 1.4224 - val_loss: 1.3013\n",
            "Epoch 9/20\n",
            "1250/1250 [==============================] - 33s 27ms/step - loss: 1.4063 - val_loss: 1.2715\n",
            "Epoch 10/20\n",
            "1250/1250 [==============================] - 33s 26ms/step - loss: 1.3940 - val_loss: 1.2386\n",
            "Epoch 11/20\n",
            "1250/1250 [==============================] - 34s 27ms/step - loss: 1.3847 - val_loss: 1.3068\n",
            "Epoch 12/20\n",
            "1250/1250 [==============================] - 34s 27ms/step - loss: 1.3706 - val_loss: 1.2347\n",
            "Epoch 13/20\n",
            "1250/1250 [==============================] - 33s 26ms/step - loss: 1.3666 - val_loss: 1.2295\n",
            "Epoch 14/20\n",
            "1250/1250 [==============================] - 33s 27ms/step - loss: 1.3545 - val_loss: 1.2375\n",
            "Epoch 15/20\n",
            "1250/1250 [==============================] - 35s 28ms/step - loss: 1.3434 - val_loss: 1.2578\n",
            "Epoch 16/20\n",
            "1250/1250 [==============================] - 33s 26ms/step - loss: 1.3465 - val_loss: 1.2780\n",
            "Epoch 17/20\n",
            "1250/1250 [==============================] - 33s 26ms/step - loss: 1.3313 - val_loss: 1.1701\n",
            "Epoch 18/20\n",
            "1250/1250 [==============================] - 33s 27ms/step - loss: 1.3229 - val_loss: 1.1981\n",
            "Epoch 19/20\n",
            "1250/1250 [==============================] - 33s 26ms/step - loss: 1.3175 - val_loss: 1.2083\n",
            "Epoch 20/20\n",
            "1250/1250 [==============================] - 33s 26ms/step - loss: 1.3105 - val_loss: 1.2129\n",
            "Epoch 1/20\n",
            "1250/1250 [==============================] - 36s 28ms/step - loss: 1.8614 - val_loss: 1.6133\n",
            "Epoch 2/20\n",
            "1250/1250 [==============================] - 34s 28ms/step - loss: 1.5743 - val_loss: 1.3966\n",
            "Epoch 3/20\n",
            "1250/1250 [==============================] - 37s 29ms/step - loss: 1.4757 - val_loss: 1.3329\n",
            "Epoch 4/20\n",
            "1250/1250 [==============================] - 34s 27ms/step - loss: 1.4154 - val_loss: 1.2939\n",
            "Epoch 5/20\n",
            "1250/1250 [==============================] - 34s 27ms/step - loss: 1.3764 - val_loss: 1.2922\n",
            "Epoch 6/20\n",
            "1250/1250 [==============================] - 34s 27ms/step - loss: 1.3475 - val_loss: 1.2367\n",
            "Epoch 7/20\n",
            "1250/1250 [==============================] - 34s 27ms/step - loss: 1.3177 - val_loss: 1.2104\n",
            "Epoch 8/20\n",
            "1250/1250 [==============================] - 34s 27ms/step - loss: 1.2848 - val_loss: 1.1196\n",
            "Epoch 9/20\n",
            "1250/1250 [==============================] - 34s 27ms/step - loss: 1.2790 - val_loss: 1.1354\n",
            "Epoch 10/20\n",
            "1250/1250 [==============================] - 35s 28ms/step - loss: 1.2555 - val_loss: 1.1692\n",
            "Epoch 11/20\n",
            "1250/1250 [==============================] - 36s 29ms/step - loss: 1.2400 - val_loss: 1.1307\n",
            "Epoch 12/20\n",
            "1250/1250 [==============================] - 34s 27ms/step - loss: 1.2278 - val_loss: 1.0975\n",
            "Epoch 13/20\n",
            "1250/1250 [==============================] - 34s 27ms/step - loss: 1.2103 - val_loss: 1.1035\n",
            "Epoch 14/20\n",
            "1250/1250 [==============================] - 34s 28ms/step - loss: 1.2004 - val_loss: 1.1456\n",
            "Epoch 15/20\n",
            "1250/1250 [==============================] - 34s 27ms/step - loss: 1.1961 - val_loss: 1.0691\n",
            "Epoch 16/20\n",
            "1250/1250 [==============================] - 34s 27ms/step - loss: 1.1840 - val_loss: 1.0543\n",
            "Epoch 17/20\n",
            "1250/1250 [==============================] - 34s 27ms/step - loss: 1.1736 - val_loss: 1.0736\n",
            "Epoch 18/20\n",
            "1250/1250 [==============================] - 33s 27ms/step - loss: 1.1674 - val_loss: 1.1212\n",
            "Epoch 19/20\n",
            "1250/1250 [==============================] - 36s 29ms/step - loss: 1.1621 - val_loss: 1.1045\n",
            "Epoch 20/20\n",
            "1250/1250 [==============================] - 34s 27ms/step - loss: 1.1501 - val_loss: 1.1053\n",
            "Epoch 1/20\n",
            "1250/1250 [==============================] - 37s 29ms/step - loss: 1.8593 - val_loss: 1.6380\n",
            "Epoch 2/20\n",
            "1250/1250 [==============================] - 36s 29ms/step - loss: 1.6029 - val_loss: 1.4908\n",
            "Epoch 3/20\n",
            "1250/1250 [==============================] - 36s 29ms/step - loss: 1.5169 - val_loss: 1.3983\n",
            "Epoch 4/20\n",
            "1250/1250 [==============================] - 36s 29ms/step - loss: 1.4616 - val_loss: 1.3654\n",
            "Epoch 5/20\n",
            "1250/1250 [==============================] - 36s 29ms/step - loss: 1.4156 - val_loss: 1.2647\n",
            "Epoch 6/20\n",
            "1250/1250 [==============================] - 38s 30ms/step - loss: 1.3940 - val_loss: 1.2474\n",
            "Epoch 7/20\n",
            "1250/1250 [==============================] - 36s 29ms/step - loss: 1.3697 - val_loss: 1.2806\n",
            "Epoch 8/20\n",
            "1250/1250 [==============================] - 36s 28ms/step - loss: 1.3468 - val_loss: 1.2946\n",
            "Epoch 9/20\n",
            "1250/1250 [==============================] - 36s 29ms/step - loss: 1.3305 - val_loss: 1.2044\n",
            "Epoch 10/20\n",
            "1250/1250 [==============================] - 35s 28ms/step - loss: 1.3190 - val_loss: 1.2463\n",
            "Epoch 11/20\n",
            "1250/1250 [==============================] - 36s 29ms/step - loss: 1.3002 - val_loss: 1.1403\n",
            "Epoch 12/20\n",
            "1250/1250 [==============================] - 36s 28ms/step - loss: 1.2886 - val_loss: 1.1578\n",
            "Epoch 13/20\n",
            "1250/1250 [==============================] - 38s 31ms/step - loss: 1.2780 - val_loss: 1.2422\n",
            "Epoch 14/20\n",
            "1250/1250 [==============================] - 36s 29ms/step - loss: 1.2638 - val_loss: 1.2491\n",
            "Epoch 15/20\n",
            "1250/1250 [==============================] - 36s 29ms/step - loss: 1.2571 - val_loss: 1.1228\n",
            "Epoch 16/20\n",
            "1250/1250 [==============================] - 36s 29ms/step - loss: 1.2431 - val_loss: 1.1770\n",
            "Epoch 17/20\n",
            "1250/1250 [==============================] - 36s 28ms/step - loss: 1.2396 - val_loss: 1.1463\n",
            "Epoch 18/20\n",
            "1250/1250 [==============================] - 36s 29ms/step - loss: 1.2280 - val_loss: 1.1569\n",
            "Epoch 19/20\n",
            "1250/1250 [==============================] - 35s 28ms/step - loss: 1.2301 - val_loss: 1.1491\n",
            "Epoch 20/20\n",
            "1250/1250 [==============================] - 36s 29ms/step - loss: 1.2188 - val_loss: 1.0907\n",
            "Epoch 1/20\n",
            "1250/1250 [==============================] - 36s 28ms/step - loss: 2.0046 - val_loss: 1.7915\n",
            "Epoch 2/20\n",
            "1250/1250 [==============================] - 35s 28ms/step - loss: 1.7679 - val_loss: 1.5891\n",
            "Epoch 3/20\n",
            "1250/1250 [==============================] - 33s 27ms/step - loss: 1.6887 - val_loss: 1.5442\n",
            "Epoch 4/20\n",
            "1250/1250 [==============================] - 34s 27ms/step - loss: 1.6423 - val_loss: 1.5003\n",
            "Epoch 5/20\n",
            "1250/1250 [==============================] - 34s 27ms/step - loss: 1.5947 - val_loss: 1.4958\n",
            "Epoch 6/20\n",
            "1250/1250 [==============================] - 36s 28ms/step - loss: 1.5724 - val_loss: 1.4283\n",
            "Epoch 7/20\n",
            "1250/1250 [==============================] - 34s 27ms/step - loss: 1.5561 - val_loss: 1.3887\n",
            "Epoch 8/20\n",
            "1250/1250 [==============================] - 33s 27ms/step - loss: 1.5415 - val_loss: 1.3983\n",
            "Epoch 9/20\n",
            "1250/1250 [==============================] - 34s 27ms/step - loss: 1.5304 - val_loss: 1.4425\n",
            "Epoch 10/20\n",
            "1250/1250 [==============================] - 34s 27ms/step - loss: 1.5132 - val_loss: 1.4682\n",
            "Epoch 11/20\n",
            "1250/1250 [==============================] - 34s 28ms/step - loss: 1.5070 - val_loss: 1.4073\n",
            "Epoch 12/20\n",
            "1250/1250 [==============================] - 35s 28ms/step - loss: 1.4950 - val_loss: 1.3643\n",
            "Epoch 13/20\n",
            "1250/1250 [==============================] - 34s 27ms/step - loss: 1.4829 - val_loss: 1.3749\n",
            "Epoch 14/20\n",
            "1250/1250 [==============================] - 34s 27ms/step - loss: 1.4794 - val_loss: 1.3584\n",
            "Epoch 15/20\n",
            "1250/1250 [==============================] - 34s 27ms/step - loss: 1.4749 - val_loss: 1.3389\n",
            "Epoch 16/20\n",
            "1250/1250 [==============================] - 34s 27ms/step - loss: 1.4654 - val_loss: 1.3182\n",
            "Epoch 17/20\n",
            "1250/1250 [==============================] - 34s 28ms/step - loss: 1.4598 - val_loss: 1.2818\n",
            "Epoch 18/20\n",
            "1250/1250 [==============================] - 35s 28ms/step - loss: 1.4594 - val_loss: 1.2996\n",
            "Epoch 19/20\n",
            "1250/1250 [==============================] - 34s 27ms/step - loss: 1.4454 - val_loss: 1.3220\n",
            "Epoch 20/20\n",
            "1250/1250 [==============================] - 34s 27ms/step - loss: 1.4489 - val_loss: 1.3190\n",
            "Epoch 1/20\n",
            "1250/1250 [==============================] - 36s 28ms/step - loss: 2.0184 - val_loss: 1.8093\n",
            "Epoch 2/20\n",
            "1250/1250 [==============================] - 36s 29ms/step - loss: 1.8144 - val_loss: 1.6546\n",
            "Epoch 3/20\n",
            "1250/1250 [==============================] - 35s 28ms/step - loss: 1.7311 - val_loss: 1.6066\n",
            "Epoch 4/20\n",
            "1250/1250 [==============================] - 34s 28ms/step - loss: 1.6799 - val_loss: 1.5393\n",
            "Epoch 5/20\n",
            "1250/1250 [==============================] - 35s 28ms/step - loss: 1.6402 - val_loss: 1.5189\n",
            "Epoch 6/20\n",
            "1250/1250 [==============================] - 35s 28ms/step - loss: 1.6163 - val_loss: 1.5085\n",
            "Epoch 7/20\n",
            "1250/1250 [==============================] - 34s 28ms/step - loss: 1.6030 - val_loss: 1.4580\n",
            "Epoch 8/20\n",
            "1250/1250 [==============================] - 36s 29ms/step - loss: 1.5804 - val_loss: 1.4346\n",
            "Epoch 9/20\n",
            "1250/1250 [==============================] - 34s 28ms/step - loss: 1.5667 - val_loss: 1.4342\n",
            "Epoch 10/20\n",
            "1250/1250 [==============================] - 35s 28ms/step - loss: 1.5464 - val_loss: 1.5473\n",
            "Epoch 11/20\n",
            "1250/1250 [==============================] - 35s 28ms/step - loss: 1.5421 - val_loss: 1.4403\n",
            "Epoch 12/20\n",
            "1250/1250 [==============================] - 35s 28ms/step - loss: 1.5261 - val_loss: 1.4595\n",
            "Epoch 13/20\n",
            "1250/1250 [==============================] - 34s 28ms/step - loss: 1.5204 - val_loss: 1.4092\n",
            "Epoch 14/20\n",
            "1250/1250 [==============================] - 36s 28ms/step - loss: 1.5069 - val_loss: 1.4086\n",
            "Epoch 15/20\n",
            "1250/1250 [==============================] - 35s 28ms/step - loss: 1.5038 - val_loss: 1.3651\n",
            "Epoch 16/20\n",
            "1250/1250 [==============================] - 34s 27ms/step - loss: 1.5000 - val_loss: 1.3883\n",
            "Epoch 17/20\n",
            "1250/1250 [==============================] - 35s 28ms/step - loss: 1.4860 - val_loss: 1.3220\n",
            "Epoch 18/20\n",
            "1250/1250 [==============================] - 34s 27ms/step - loss: 1.4717 - val_loss: 1.3294\n",
            "Epoch 19/20\n",
            "1250/1250 [==============================] - 34s 27ms/step - loss: 1.4749 - val_loss: 1.3591\n",
            "Epoch 20/20\n",
            "1250/1250 [==============================] - 36s 29ms/step - loss: 1.4626 - val_loss: 1.3082\n",
            "Epoch 1/20\n",
            "1250/1250 [==============================] - 36s 28ms/step - loss: 1.9598 - val_loss: 1.6899\n",
            "Epoch 2/20\n",
            "1250/1250 [==============================] - 34s 27ms/step - loss: 1.7015 - val_loss: 1.6487\n",
            "Epoch 3/20\n",
            "1250/1250 [==============================] - 35s 28ms/step - loss: 1.6052 - val_loss: 1.4894\n",
            "Epoch 4/20\n",
            "1250/1250 [==============================] - 35s 28ms/step - loss: 1.5429 - val_loss: 1.3955\n",
            "Epoch 5/20\n",
            "1250/1250 [==============================] - 36s 29ms/step - loss: 1.5074 - val_loss: 1.3352\n",
            "Epoch 6/20\n",
            "1250/1250 [==============================] - 35s 28ms/step - loss: 1.4816 - val_loss: 1.3517\n",
            "Epoch 7/20\n",
            "1250/1250 [==============================] - 35s 28ms/step - loss: 1.4555 - val_loss: 1.2831\n",
            "Epoch 8/20\n",
            "1250/1250 [==============================] - 36s 29ms/step - loss: 1.4428 - val_loss: 1.2667\n",
            "Epoch 9/20\n",
            "1250/1250 [==============================] - 34s 28ms/step - loss: 1.4185 - val_loss: 1.3046\n",
            "Epoch 10/20\n",
            "1250/1250 [==============================] - 35s 28ms/step - loss: 1.4109 - val_loss: 1.2199\n",
            "Epoch 11/20\n",
            "1250/1250 [==============================] - 36s 29ms/step - loss: 1.3968 - val_loss: 1.2449\n",
            "Epoch 12/20\n",
            "1250/1250 [==============================] - 35s 28ms/step - loss: 1.3856 - val_loss: 1.2975\n",
            "Epoch 13/20\n",
            "1250/1250 [==============================] - 35s 28ms/step - loss: 1.3827 - val_loss: 1.2985\n",
            "Epoch 14/20\n",
            "1250/1250 [==============================] - 35s 28ms/step - loss: 1.3619 - val_loss: 1.1883\n",
            "Epoch 15/20\n",
            "1250/1250 [==============================] - 35s 28ms/step - loss: 1.3584 - val_loss: 1.2581\n",
            "Epoch 16/20\n",
            "1250/1250 [==============================] - 35s 28ms/step - loss: 1.3569 - val_loss: 1.2231\n",
            "Epoch 17/20\n",
            "1250/1250 [==============================] - 36s 29ms/step - loss: 1.3527 - val_loss: 1.1499\n",
            "Epoch 18/20\n",
            "1250/1250 [==============================] - 35s 28ms/step - loss: 1.3426 - val_loss: 1.1618\n",
            "Epoch 19/20\n",
            "1250/1250 [==============================] - 35s 28ms/step - loss: 1.3373 - val_loss: 1.2165\n",
            "Epoch 20/20\n",
            "1250/1250 [==============================] - 35s 28ms/step - loss: 1.3302 - val_loss: 1.1986\n",
            "Epoch 1/20\n",
            "1250/1250 [==============================] - 40s 31ms/step - loss: 2.0206 - val_loss: 1.8163\n",
            "Epoch 2/20\n",
            "1250/1250 [==============================] - 38s 30ms/step - loss: 1.7815 - val_loss: 1.6055\n",
            "Epoch 3/20\n",
            "1250/1250 [==============================] - 39s 31ms/step - loss: 1.6777 - val_loss: 1.5520\n",
            "Epoch 4/20\n",
            "1250/1250 [==============================] - 37s 30ms/step - loss: 1.6376 - val_loss: 1.4796\n",
            "Epoch 5/20\n",
            "1250/1250 [==============================] - 38s 30ms/step - loss: 1.5985 - val_loss: 1.4760\n",
            "Epoch 6/20\n",
            "1250/1250 [==============================] - 38s 30ms/step - loss: 1.5683 - val_loss: 1.4371\n",
            "Epoch 7/20\n",
            "1250/1250 [==============================] - 37s 30ms/step - loss: 1.5526 - val_loss: 1.4154\n",
            "Epoch 8/20\n",
            "1250/1250 [==============================] - 38s 30ms/step - loss: 1.5376 - val_loss: 1.4002\n",
            "Epoch 9/20\n",
            "1250/1250 [==============================] - 38s 31ms/step - loss: 1.5172 - val_loss: 1.4415\n",
            "Epoch 10/20\n",
            "1250/1250 [==============================] - 38s 31ms/step - loss: 1.5015 - val_loss: 1.3822\n",
            "Epoch 11/20\n",
            "1250/1250 [==============================] - 37s 30ms/step - loss: 1.4945 - val_loss: 1.3487\n",
            "Epoch 12/20\n",
            "1250/1250 [==============================] - 38s 30ms/step - loss: 1.4770 - val_loss: 1.3195\n",
            "Epoch 13/20\n",
            "1250/1250 [==============================] - 38s 30ms/step - loss: 1.4604 - val_loss: 1.3376\n",
            "Epoch 14/20\n",
            "1250/1250 [==============================] - 40s 32ms/step - loss: 1.4603 - val_loss: 1.3356\n",
            "Epoch 15/20\n",
            "1250/1250 [==============================] - 38s 30ms/step - loss: 1.4476 - val_loss: 1.2951\n",
            "Epoch 16/20\n",
            "1250/1250 [==============================] - 38s 30ms/step - loss: 1.4384 - val_loss: 1.3236\n",
            "Epoch 17/20\n",
            "1250/1250 [==============================] - 38s 30ms/step - loss: 1.4302 - val_loss: 1.3188\n",
            "Epoch 18/20\n",
            "1250/1250 [==============================] - 37s 30ms/step - loss: 1.4204 - val_loss: 1.2628\n",
            "Epoch 19/20\n",
            "1250/1250 [==============================] - 38s 30ms/step - loss: 1.4208 - val_loss: 1.2588\n",
            "Epoch 20/20\n",
            "1250/1250 [==============================] - 39s 31ms/step - loss: 1.4135 - val_loss: 1.2185\n"
          ]
        }
      ]
    },
    {
      "cell_type": "code",
      "source": [],
      "metadata": {
        "id": "2Ss-D76IKV8v"
      },
      "execution_count": null,
      "outputs": []
    },
    {
      "cell_type": "code",
      "source": [
        "losses = []\n",
        "\n",
        "for model in models:\n",
        "  cur_loss = model[0].evaluate(x_val, y_val)\n",
        "  print(cur_loss)\n",
        "  losses.append(cur_loss)\n"
      ],
      "metadata": {
        "colab": {
          "base_uri": "https://localhost:8080/",
          "height": 0
        },
        "id": "3Q-tmcYfILiD",
        "outputId": "8050d4d0-e158-4a8c-ce2d-90b421f51b32"
      },
      "execution_count": 68,
      "outputs": [
        {
          "output_type": "stream",
          "name": "stdout",
          "text": [
            "313/313 [==============================] - 1s 2ms/step - loss: 1.1782\n",
            "1.1781741380691528\n",
            "313/313 [==============================] - 1s 3ms/step - loss: 1.2129\n",
            "1.2129300832748413\n",
            "313/313 [==============================] - 1s 3ms/step - loss: 1.1053\n",
            "1.105284333229065\n",
            "313/313 [==============================] - 1s 3ms/step - loss: 1.0907\n",
            "1.0907360315322876\n",
            "313/313 [==============================] - 1s 2ms/step - loss: 1.3190\n",
            "1.3190219402313232\n",
            "313/313 [==============================] - 1s 3ms/step - loss: 1.3082\n",
            "1.3082424402236938\n",
            "313/313 [==============================] - 1s 3ms/step - loss: 1.1986\n",
            "1.1985617876052856\n",
            "313/313 [==============================] - 1s 3ms/step - loss: 1.2185\n",
            "1.2184545993804932\n"
          ]
        }
      ]
    },
    {
      "cell_type": "code",
      "source": [
        "index_of_best_model = losses.index(min(losses))\n",
        "print(index_of_best_model)\n",
        "\n",
        "best_model = models[index_of_best_model][0]"
      ],
      "metadata": {
        "colab": {
          "base_uri": "https://localhost:8080/",
          "height": 0
        },
        "id": "F12hUYcBLoYU",
        "outputId": "e90ef311-774b-4435-81f9-77b33e162194"
      },
      "execution_count": 74,
      "outputs": [
        {
          "output_type": "stream",
          "name": "stdout",
          "text": [
            "3\n"
          ]
        }
      ]
    },
    {
      "cell_type": "markdown",
      "source": [
        "fourth model is the best as we see.    \n",
        "the model consisting of 3 layers, each containing 64 filters of (3.3) size."
      ],
      "metadata": {
        "id": "D7sQc1zYMazc"
      }
    },
    {
      "cell_type": "code",
      "source": [
        "import pickle\n",
        "\n",
        "pickle.dump( models[3][0], open( \"save.p\", \"wb\" ) )"
      ],
      "metadata": {
        "colab": {
          "base_uri": "https://localhost:8080/",
          "height": 0
        },
        "id": "1MnAKiRFItE7",
        "outputId": "1956c0df-5eb1-44cf-bf23-fa926dfa2f55"
      },
      "execution_count": 73,
      "outputs": [
        {
          "output_type": "stream",
          "name": "stderr",
          "text": [
            "WARNING:absl:Found untraced functions such as _jit_compiled_convolution_op, _jit_compiled_convolution_op, _jit_compiled_convolution_op while saving (showing 3 of 3). These functions will not be directly callable after loading.\n"
          ]
        }
      ]
    },
    {
      "cell_type": "code",
      "source": [
        "#fitting model with more epochs to choose the best stopping point\n",
        "\n",
        "\n",
        "model = define_model(num_conv_layers= 3, filters=64, kernel_size=(5, 5))\n",
        "history = model.fit(x_train, y_train, batch_size=batch_size, epochs=100, validation_data=(x_val, y_val))\n",
        "\n"
      ],
      "metadata": {
        "colab": {
          "base_uri": "https://localhost:8080/",
          "height": 0
        },
        "id": "IHeNp8S6NhHP",
        "outputId": "45e3dc5d-e6a8-4cb9-bb9b-c883c156a358"
      },
      "execution_count": 80,
      "outputs": [
        {
          "output_type": "stream",
          "name": "stdout",
          "text": [
            "Epoch 1/100\n"
          ]
        },
        {
          "output_type": "stream",
          "name": "stderr",
          "text": [
            "/usr/local/lib/python3.8/dist-packages/tensorflow/python/util/dispatch.py:1082: UserWarning: \"`sparse_categorical_crossentropy` received `from_logits=True`, but the `output` argument was produced by a sigmoid or softmax activation and thus does not represent logits. Was this intended?\"\n",
            "  return dispatch_target(*args, **kwargs)\n"
          ]
        },
        {
          "output_type": "stream",
          "name": "stdout",
          "text": [
            "1250/1250 [==============================] - 38s 30ms/step - loss: 1.8505 - accuracy: 0.3140 - val_loss: 1.5744 - val_accuracy: 0.4238\n",
            "Epoch 2/100\n",
            "1250/1250 [==============================] - 37s 29ms/step - loss: 1.5924 - accuracy: 0.4221 - val_loss: 1.4163 - val_accuracy: 0.4930\n",
            "Epoch 3/100\n",
            "1250/1250 [==============================] - 44s 35ms/step - loss: 1.5131 - accuracy: 0.4512 - val_loss: 1.4134 - val_accuracy: 0.4961\n",
            "Epoch 4/100\n",
            "1250/1250 [==============================] - 36s 29ms/step - loss: 1.4638 - accuracy: 0.4742 - val_loss: 1.3256 - val_accuracy: 0.5260\n",
            "Epoch 5/100\n",
            "1250/1250 [==============================] - 38s 30ms/step - loss: 1.4276 - accuracy: 0.4848 - val_loss: 1.2738 - val_accuracy: 0.5428\n",
            "Epoch 6/100\n",
            "1250/1250 [==============================] - 36s 29ms/step - loss: 1.3925 - accuracy: 0.4986 - val_loss: 1.2456 - val_accuracy: 0.5534\n",
            "Epoch 7/100\n",
            "1250/1250 [==============================] - 35s 28ms/step - loss: 1.3778 - accuracy: 0.5045 - val_loss: 1.2314 - val_accuracy: 0.5636\n",
            "Epoch 8/100\n",
            "1250/1250 [==============================] - 36s 29ms/step - loss: 1.3581 - accuracy: 0.5120 - val_loss: 1.2529 - val_accuracy: 0.5575\n",
            "Epoch 9/100\n",
            "1250/1250 [==============================] - 36s 28ms/step - loss: 1.3451 - accuracy: 0.5161 - val_loss: 1.2158 - val_accuracy: 0.5675\n",
            "Epoch 10/100\n",
            "1250/1250 [==============================] - 36s 29ms/step - loss: 1.3272 - accuracy: 0.5239 - val_loss: 1.1736 - val_accuracy: 0.5794\n",
            "Epoch 11/100\n",
            "1250/1250 [==============================] - 37s 29ms/step - loss: 1.3058 - accuracy: 0.5337 - val_loss: 1.2358 - val_accuracy: 0.5557\n",
            "Epoch 12/100\n",
            "1250/1250 [==============================] - 36s 29ms/step - loss: 1.2980 - accuracy: 0.5366 - val_loss: 1.1213 - val_accuracy: 0.5964\n",
            "Epoch 13/100\n",
            "1250/1250 [==============================] - 36s 29ms/step - loss: 1.2776 - accuracy: 0.5451 - val_loss: 1.1526 - val_accuracy: 0.5842\n",
            "Epoch 14/100\n",
            "1250/1250 [==============================] - 36s 29ms/step - loss: 1.2789 - accuracy: 0.5416 - val_loss: 1.1467 - val_accuracy: 0.5960\n",
            "Epoch 15/100\n",
            "1250/1250 [==============================] - 36s 29ms/step - loss: 1.2559 - accuracy: 0.5511 - val_loss: 1.1419 - val_accuracy: 0.5920\n",
            "Epoch 16/100\n",
            "1250/1250 [==============================] - 36s 29ms/step - loss: 1.2592 - accuracy: 0.5514 - val_loss: 1.1547 - val_accuracy: 0.5881\n",
            "Epoch 17/100\n",
            "1250/1250 [==============================] - 36s 29ms/step - loss: 1.2482 - accuracy: 0.5515 - val_loss: 1.0876 - val_accuracy: 0.6128\n",
            "Epoch 18/100\n",
            "1250/1250 [==============================] - 35s 28ms/step - loss: 1.2381 - accuracy: 0.5575 - val_loss: 1.1767 - val_accuracy: 0.5847\n",
            "Epoch 19/100\n",
            "1250/1250 [==============================] - 36s 29ms/step - loss: 1.2279 - accuracy: 0.5633 - val_loss: 1.0772 - val_accuracy: 0.6200\n",
            "Epoch 20/100\n",
            "1250/1250 [==============================] - 35s 28ms/step - loss: 1.2242 - accuracy: 0.5622 - val_loss: 1.1147 - val_accuracy: 0.6044\n",
            "Epoch 21/100\n",
            "1250/1250 [==============================] - 37s 30ms/step - loss: 1.2158 - accuracy: 0.5681 - val_loss: 1.0956 - val_accuracy: 0.6156\n",
            "Epoch 22/100\n",
            "1250/1250 [==============================] - 35s 28ms/step - loss: 1.2052 - accuracy: 0.5724 - val_loss: 1.0732 - val_accuracy: 0.6205\n",
            "Epoch 23/100\n",
            "1250/1250 [==============================] - 35s 28ms/step - loss: 1.2014 - accuracy: 0.5714 - val_loss: 1.1039 - val_accuracy: 0.6115\n",
            "Epoch 24/100\n",
            "1250/1250 [==============================] - 35s 28ms/step - loss: 1.1879 - accuracy: 0.5765 - val_loss: 1.0637 - val_accuracy: 0.6261\n",
            "Epoch 25/100\n",
            "1250/1250 [==============================] - 36s 28ms/step - loss: 1.1853 - accuracy: 0.5749 - val_loss: 1.0595 - val_accuracy: 0.6261\n",
            "Epoch 26/100\n",
            "1250/1250 [==============================] - 36s 28ms/step - loss: 1.1872 - accuracy: 0.5759 - val_loss: 1.1375 - val_accuracy: 0.6107\n",
            "Epoch 27/100\n",
            "1250/1250 [==============================] - 35s 28ms/step - loss: 1.1794 - accuracy: 0.5820 - val_loss: 1.0657 - val_accuracy: 0.6185\n",
            "Epoch 28/100\n",
            "1250/1250 [==============================] - 37s 29ms/step - loss: 1.1725 - accuracy: 0.5846 - val_loss: 1.0684 - val_accuracy: 0.6229\n",
            "Epoch 29/100\n",
            "1250/1250 [==============================] - 35s 28ms/step - loss: 1.1739 - accuracy: 0.5829 - val_loss: 1.1085 - val_accuracy: 0.6209\n",
            "Epoch 30/100\n",
            "1250/1250 [==============================] - 36s 29ms/step - loss: 1.1654 - accuracy: 0.5841 - val_loss: 1.0874 - val_accuracy: 0.6143\n",
            "Epoch 31/100\n",
            "1250/1250 [==============================] - 36s 29ms/step - loss: 1.1593 - accuracy: 0.5891 - val_loss: 1.0506 - val_accuracy: 0.6299\n",
            "Epoch 32/100\n",
            "1250/1250 [==============================] - 36s 29ms/step - loss: 1.1562 - accuracy: 0.5912 - val_loss: 1.0429 - val_accuracy: 0.6339\n",
            "Epoch 33/100\n",
            "1250/1250 [==============================] - 36s 29ms/step - loss: 1.1611 - accuracy: 0.5833 - val_loss: 1.0206 - val_accuracy: 0.6391\n",
            "Epoch 34/100\n",
            "1250/1250 [==============================] - 35s 28ms/step - loss: 1.1475 - accuracy: 0.5924 - val_loss: 1.1433 - val_accuracy: 0.5975\n",
            "Epoch 35/100\n",
            "1250/1250 [==============================] - 36s 29ms/step - loss: 1.1443 - accuracy: 0.5925 - val_loss: 1.0025 - val_accuracy: 0.6460\n",
            "Epoch 36/100\n",
            "1250/1250 [==============================] - 35s 28ms/step - loss: 1.1461 - accuracy: 0.5939 - val_loss: 1.0244 - val_accuracy: 0.6390\n",
            "Epoch 37/100\n",
            "1250/1250 [==============================] - 36s 29ms/step - loss: 1.1452 - accuracy: 0.5917 - val_loss: 1.0056 - val_accuracy: 0.6456\n",
            "Epoch 38/100\n",
            "1250/1250 [==============================] - 36s 29ms/step - loss: 1.1379 - accuracy: 0.5943 - val_loss: 0.9918 - val_accuracy: 0.6505\n",
            "Epoch 39/100\n",
            "1250/1250 [==============================] - 37s 30ms/step - loss: 1.1351 - accuracy: 0.5967 - val_loss: 1.1579 - val_accuracy: 0.5927\n",
            "Epoch 40/100\n",
            "1250/1250 [==============================] - 36s 29ms/step - loss: 1.1344 - accuracy: 0.5982 - val_loss: 1.0822 - val_accuracy: 0.6279\n",
            "Epoch 41/100\n",
            "1250/1250 [==============================] - 36s 29ms/step - loss: 1.1300 - accuracy: 0.5985 - val_loss: 0.9882 - val_accuracy: 0.6556\n",
            "Epoch 42/100\n",
            "1250/1250 [==============================] - 36s 29ms/step - loss: 1.1238 - accuracy: 0.6035 - val_loss: 1.0626 - val_accuracy: 0.6254\n",
            "Epoch 43/100\n",
            "1250/1250 [==============================] - 37s 29ms/step - loss: 1.1233 - accuracy: 0.6017 - val_loss: 1.1122 - val_accuracy: 0.6159\n",
            "Epoch 44/100\n",
            "1250/1250 [==============================] - 36s 28ms/step - loss: 1.1211 - accuracy: 0.6035 - val_loss: 1.0759 - val_accuracy: 0.6249\n",
            "Epoch 45/100\n",
            "1250/1250 [==============================] - 35s 28ms/step - loss: 1.1175 - accuracy: 0.6029 - val_loss: 1.0589 - val_accuracy: 0.6312\n",
            "Epoch 46/100\n",
            "1250/1250 [==============================] - 35s 28ms/step - loss: 1.1181 - accuracy: 0.6052 - val_loss: 0.9916 - val_accuracy: 0.6520\n",
            "Epoch 47/100\n",
            "1250/1250 [==============================] - 36s 29ms/step - loss: 1.1087 - accuracy: 0.6063 - val_loss: 1.0634 - val_accuracy: 0.6296\n",
            "Epoch 48/100\n",
            "1250/1250 [==============================] - 37s 29ms/step - loss: 1.1098 - accuracy: 0.6059 - val_loss: 1.0714 - val_accuracy: 0.6276\n",
            "Epoch 49/100\n",
            "1250/1250 [==============================] - 36s 29ms/step - loss: 1.1112 - accuracy: 0.6041 - val_loss: 0.9828 - val_accuracy: 0.6592\n",
            "Epoch 50/100\n",
            "1250/1250 [==============================] - 36s 29ms/step - loss: 1.1053 - accuracy: 0.6082 - val_loss: 1.0531 - val_accuracy: 0.6298\n",
            "Epoch 51/100\n",
            "1250/1250 [==============================] - 36s 29ms/step - loss: 1.1080 - accuracy: 0.6069 - val_loss: 1.0479 - val_accuracy: 0.6337\n",
            "Epoch 52/100\n",
            "1250/1250 [==============================] - 36s 29ms/step - loss: 1.1105 - accuracy: 0.6056 - val_loss: 1.0586 - val_accuracy: 0.6282\n",
            "Epoch 53/100\n",
            "1250/1250 [==============================] - 36s 29ms/step - loss: 1.1096 - accuracy: 0.6066 - val_loss: 1.0177 - val_accuracy: 0.6444\n",
            "Epoch 54/100\n",
            "1250/1250 [==============================] - 36s 29ms/step - loss: 1.0979 - accuracy: 0.6113 - val_loss: 1.0584 - val_accuracy: 0.6250\n",
            "Epoch 55/100\n",
            "1250/1250 [==============================] - 36s 29ms/step - loss: 1.1012 - accuracy: 0.6116 - val_loss: 1.0893 - val_accuracy: 0.6201\n",
            "Epoch 56/100\n",
            "1250/1250 [==============================] - 36s 29ms/step - loss: 1.0893 - accuracy: 0.6144 - val_loss: 0.9760 - val_accuracy: 0.6591\n",
            "Epoch 57/100\n",
            "1250/1250 [==============================] - 37s 30ms/step - loss: 1.0882 - accuracy: 0.6134 - val_loss: 1.0395 - val_accuracy: 0.6358\n",
            "Epoch 58/100\n",
            "1250/1250 [==============================] - 36s 29ms/step - loss: 1.0967 - accuracy: 0.6115 - val_loss: 1.0290 - val_accuracy: 0.6414\n",
            "Epoch 59/100\n",
            "1250/1250 [==============================] - 36s 29ms/step - loss: 1.0853 - accuracy: 0.6131 - val_loss: 1.0103 - val_accuracy: 0.6472\n",
            "Epoch 60/100\n",
            "1250/1250 [==============================] - 36s 29ms/step - loss: 1.0883 - accuracy: 0.6170 - val_loss: 1.0544 - val_accuracy: 0.6324\n",
            "Epoch 61/100\n",
            "1250/1250 [==============================] - 37s 29ms/step - loss: 1.0832 - accuracy: 0.6174 - val_loss: 1.0018 - val_accuracy: 0.6578\n",
            "Epoch 62/100\n",
            "1250/1250 [==============================] - 36s 29ms/step - loss: 1.0809 - accuracy: 0.6171 - val_loss: 1.0090 - val_accuracy: 0.6485\n",
            "Epoch 63/100\n",
            "1250/1250 [==============================] - 36s 29ms/step - loss: 1.0779 - accuracy: 0.6184 - val_loss: 1.0336 - val_accuracy: 0.6431\n",
            "Epoch 64/100\n",
            "1250/1250 [==============================] - 37s 29ms/step - loss: 1.0736 - accuracy: 0.6220 - val_loss: 1.0039 - val_accuracy: 0.6531\n",
            "Epoch 65/100\n",
            "1250/1250 [==============================] - 36s 29ms/step - loss: 1.0855 - accuracy: 0.6158 - val_loss: 1.0434 - val_accuracy: 0.6322\n",
            "Epoch 66/100\n",
            "1250/1250 [==============================] - 38s 30ms/step - loss: 1.0794 - accuracy: 0.6202 - val_loss: 1.0233 - val_accuracy: 0.6427\n",
            "Epoch 67/100\n",
            "1250/1250 [==============================] - 36s 29ms/step - loss: 1.0693 - accuracy: 0.6214 - val_loss: 1.0109 - val_accuracy: 0.6488\n",
            "Epoch 68/100\n",
            "1250/1250 [==============================] - 36s 29ms/step - loss: 1.0839 - accuracy: 0.6153 - val_loss: 1.0013 - val_accuracy: 0.6572\n",
            "Epoch 69/100\n",
            "1250/1250 [==============================] - 36s 29ms/step - loss: 1.0814 - accuracy: 0.6185 - val_loss: 1.0109 - val_accuracy: 0.6487\n",
            "Epoch 70/100\n",
            "1250/1250 [==============================] - 36s 29ms/step - loss: 1.0738 - accuracy: 0.6226 - val_loss: 0.9356 - val_accuracy: 0.6734\n",
            "Epoch 71/100\n",
            "1250/1250 [==============================] - 37s 29ms/step - loss: 1.0725 - accuracy: 0.6212 - val_loss: 1.0590 - val_accuracy: 0.6369\n",
            "Epoch 72/100\n",
            "1250/1250 [==============================] - 36s 29ms/step - loss: 1.0728 - accuracy: 0.6223 - val_loss: 0.9999 - val_accuracy: 0.6580\n",
            "Epoch 73/100\n",
            "1250/1250 [==============================] - 37s 29ms/step - loss: 1.0703 - accuracy: 0.6226 - val_loss: 0.9881 - val_accuracy: 0.6578\n",
            "Epoch 74/100\n",
            "1250/1250 [==============================] - 37s 29ms/step - loss: 1.0647 - accuracy: 0.6224 - val_loss: 1.0134 - val_accuracy: 0.6523\n",
            "Epoch 75/100\n",
            "1250/1250 [==============================] - 38s 30ms/step - loss: 1.0709 - accuracy: 0.6205 - val_loss: 0.9573 - val_accuracy: 0.6654\n",
            "Epoch 76/100\n",
            "1250/1250 [==============================] - 37s 29ms/step - loss: 1.0659 - accuracy: 0.6223 - val_loss: 1.1408 - val_accuracy: 0.6291\n",
            "Epoch 77/100\n",
            "1250/1250 [==============================] - 37s 29ms/step - loss: 1.0727 - accuracy: 0.6230 - val_loss: 0.9491 - val_accuracy: 0.6686\n",
            "Epoch 78/100\n",
            "1250/1250 [==============================] - 37s 29ms/step - loss: 1.0614 - accuracy: 0.6241 - val_loss: 0.9806 - val_accuracy: 0.6631\n",
            "Epoch 79/100\n",
            "1250/1250 [==============================] - 37s 30ms/step - loss: 1.0594 - accuracy: 0.6248 - val_loss: 0.9728 - val_accuracy: 0.6676\n",
            "Epoch 80/100\n",
            "1250/1250 [==============================] - 37s 29ms/step - loss: 1.0701 - accuracy: 0.6235 - val_loss: 0.9661 - val_accuracy: 0.6705\n",
            "Epoch 81/100\n",
            "1250/1250 [==============================] - 37s 29ms/step - loss: 1.0658 - accuracy: 0.6270 - val_loss: 1.0711 - val_accuracy: 0.6334\n",
            "Epoch 82/100\n",
            "1250/1250 [==============================] - 37s 29ms/step - loss: 1.0586 - accuracy: 0.6276 - val_loss: 1.0051 - val_accuracy: 0.6532\n",
            "Epoch 83/100\n",
            "1250/1250 [==============================] - 38s 31ms/step - loss: 1.0628 - accuracy: 0.6221 - val_loss: 0.9410 - val_accuracy: 0.6750\n",
            "Epoch 84/100\n",
            "1250/1250 [==============================] - 37s 30ms/step - loss: 1.0514 - accuracy: 0.6321 - val_loss: 0.9403 - val_accuracy: 0.6739\n",
            "Epoch 85/100\n",
            "1250/1250 [==============================] - 36s 29ms/step - loss: 1.0532 - accuracy: 0.6281 - val_loss: 0.9487 - val_accuracy: 0.6755\n",
            "Epoch 86/100\n",
            "1250/1250 [==============================] - 37s 29ms/step - loss: 1.0491 - accuracy: 0.6295 - val_loss: 0.9862 - val_accuracy: 0.6600\n",
            "Epoch 87/100\n",
            "1250/1250 [==============================] - 37s 29ms/step - loss: 1.0451 - accuracy: 0.6309 - val_loss: 0.9280 - val_accuracy: 0.6780\n",
            "Epoch 88/100\n",
            "1250/1250 [==============================] - 37s 30ms/step - loss: 1.0556 - accuracy: 0.6292 - val_loss: 1.0006 - val_accuracy: 0.6571\n",
            "Epoch 89/100\n",
            "1250/1250 [==============================] - 37s 29ms/step - loss: 1.0512 - accuracy: 0.6314 - val_loss: 0.9034 - val_accuracy: 0.6909\n",
            "Epoch 90/100\n",
            "1250/1250 [==============================] - 37s 30ms/step - loss: 1.0526 - accuracy: 0.6318 - val_loss: 1.0271 - val_accuracy: 0.6424\n",
            "Epoch 91/100\n",
            "1250/1250 [==============================] - 37s 30ms/step - loss: 1.0530 - accuracy: 0.6287 - val_loss: 0.9519 - val_accuracy: 0.6747\n",
            "Epoch 92/100\n",
            "1250/1250 [==============================] - 36s 29ms/step - loss: 1.0462 - accuracy: 0.6299 - val_loss: 0.9599 - val_accuracy: 0.6701\n",
            "Epoch 93/100\n",
            "1250/1250 [==============================] - 36s 29ms/step - loss: 1.0498 - accuracy: 0.6292 - val_loss: 0.8890 - val_accuracy: 0.6926\n",
            "Epoch 94/100\n",
            "1250/1250 [==============================] - 37s 29ms/step - loss: 1.0552 - accuracy: 0.6287 - val_loss: 0.9831 - val_accuracy: 0.6632\n",
            "Epoch 95/100\n",
            "1250/1250 [==============================] - 37s 29ms/step - loss: 1.0471 - accuracy: 0.6296 - val_loss: 1.0047 - val_accuracy: 0.6581\n",
            "Epoch 96/100\n",
            "1250/1250 [==============================] - 37s 29ms/step - loss: 1.0456 - accuracy: 0.6330 - val_loss: 0.9809 - val_accuracy: 0.6639\n",
            "Epoch 97/100\n",
            "1250/1250 [==============================] - 37s 29ms/step - loss: 1.0380 - accuracy: 0.6344 - val_loss: 1.0319 - val_accuracy: 0.6575\n",
            "Epoch 98/100\n",
            "1250/1250 [==============================] - 36s 29ms/step - loss: 1.0473 - accuracy: 0.6341 - val_loss: 0.9484 - val_accuracy: 0.6729\n",
            "Epoch 99/100\n",
            "1250/1250 [==============================] - 38s 31ms/step - loss: 1.0419 - accuracy: 0.6313 - val_loss: 0.9984 - val_accuracy: 0.6630\n",
            "Epoch 100/100\n",
            "1250/1250 [==============================] - 36s 29ms/step - loss: 1.0394 - accuracy: 0.6350 - val_loss: 1.0271 - val_accuracy: 0.6468\n"
          ]
        }
      ]
    },
    {
      "cell_type": "code",
      "source": [
        "import matplotlib.pyplot as plt\n",
        "\n",
        "def plotmodelhistory(history): \n",
        "    fig, axs = plt.subplots(1,2,figsize=(15,5)) \n",
        "    # summarize history for accuracy\n",
        "    axs[0].plot(history.history['accuracy']) \n",
        "    axs[0].plot(history.history['val_accuracy']) \n",
        "    axs[0].set_title('Model Accuracy')\n",
        "    axs[0].set_ylabel('Accuracy') \n",
        "    axs[0].set_xlabel('Epoch')\n",
        "    axs[0].legend(['train', 'validate'], loc='upper left')\n",
        "    # summarize history for loss\n",
        "    axs[1].plot(history.history['loss']) \n",
        "    axs[1].plot(history.history['val_loss']) \n",
        "    axs[1].set_title('Model Loss')\n",
        "    axs[1].set_ylabel('Loss') \n",
        "    axs[1].set_xlabel('Epoch')\n",
        "    axs[1].legend(['train', 'validate'], loc='upper left')\n",
        "    plt.show()\n",
        "\n",
        "# list all data in history\n",
        "print(history.history.keys())\n",
        "\n",
        "plotmodelhistory(history)"
      ],
      "metadata": {
        "colab": {
          "base_uri": "https://localhost:8080/",
          "height": 367
        },
        "id": "hfDrHBDxPwXp",
        "outputId": "7caeaa94-d2ce-420d-ea17-07fcc5332324"
      },
      "execution_count": 81,
      "outputs": [
        {
          "output_type": "stream",
          "name": "stdout",
          "text": [
            "dict_keys(['loss', 'accuracy', 'val_loss', 'val_accuracy'])\n"
          ]
        },
        {
          "output_type": "display_data",
          "data": {
            "text/plain": [
              "<Figure size 1080x360 with 2 Axes>"
            ],
            "image/png": "[encoded data removed]"
          },
          "metadata": {
            "needs_background": "light"
          }
        }
      ]
    },
    {
      "cell_type": "code",
      "source": [
        "#now lets see the real test results\n",
        "\n",
        "test_scores = model.evaluate(x_test, y_test)\n",
        "print('Test loss:', test_scores[0])\n",
        "print('Test accuracy:', test_scores[1])\n",
        "\n",
        "pred = model.predict(x_test)\n"
      ],
      "metadata": {
        "colab": {
          "base_uri": "https://localhost:8080/"
        },
        "id": "3Kudfr4qe36x",
        "outputId": "58a5c42a-334b-4362-c2e4-f527ccb0d150"
      },
      "execution_count": 97,
      "outputs": [
        {
          "output_type": "stream",
          "name": "stdout",
          "text": [
            "313/313 [==============================] - 1s 3ms/step - loss: 1.0585 - accuracy: 0.6413\n",
            "Test loss: 1.0584968328475952\n",
            "Test accuracy: 0.6413000226020813\n",
            "313/313 [==============================] - 1s 2ms/step\n"
          ]
        },
        {
          "output_type": "execute_result",
          "data": {
            "text/plain": [
              "array([[3.07321213e-02, 1.11610822e-01, 3.78478393e-02, ...,\n",
              "        5.58618642e-02, 3.27526703e-02, 3.95996809e-01],\n",
              "       [2.99659767e-03, 2.26076785e-02, 5.04523668e-05, ...,\n",
              "        4.75440515e-07, 9.73530412e-01, 8.04153213e-04],\n",
              "       [1.60551384e-01, 3.58433783e-01, 1.94955315e-03, ...,\n",
              "        1.56146416e-03, 2.60794848e-01, 2.06067979e-01],\n",
              "       ...,\n",
              "       [2.49100813e-05, 1.82943215e-04, 2.41434039e-03, ...,\n",
              "        2.53547262e-03, 2.24496907e-04, 1.32897054e-04],\n",
              "       [4.98895627e-03, 9.75638628e-01, 3.51092056e-03, ...,\n",
              "        3.64916457e-04, 9.57123411e-04, 1.39620155e-02],\n",
              "       [2.01511710e-07, 2.59839879e-07, 7.27373617e-06, ...,\n",
              "        9.93524790e-01, 1.47464073e-06, 9.71279064e-07]], dtype=float32)"
            ]
          },
          "metadata": {},
          "execution_count": 97
        }
      ]
    },
    {
      "cell_type": "code",
      "source": [
        "pred.shape, y_test.shape, x_test.shape"
      ],
      "metadata": {
        "colab": {
          "base_uri": "https://localhost:8080/"
        },
        "id": "QuTtG6CXirDA",
        "outputId": "9413f560-9da5-42ef-c074-0c5c1379af93"
      },
      "execution_count": 99,
      "outputs": [
        {
          "output_type": "execute_result",
          "data": {
            "text/plain": [
              "((10000, 10), (10000, 1), (10000, 32, 32, 3))"
            ]
          },
          "metadata": {},
          "execution_count": 99
        }
      ]
    },
    {
      "cell_type": "code",
      "source": [
        "def heatmap(data, row_labels, col_labels, ax=None, cbar_kw={}, cbarlabel=\"\", **kwargs):\n",
        "    \"\"\"\n",
        "    Create a heatmap from a numpy array and two lists of labels.\n",
        "    \"\"\"\n",
        "    if not ax:\n",
        "        ax = plt.gca()\n",
        "\n",
        "    # Plot the heatmap\n",
        "    im = ax.imshow(data, **kwargs)\n",
        "\n",
        "    # Create colorbar\n",
        "    cbar = ax.figure.colorbar(im, ax=ax, **cbar_kw)\n",
        "    cbar.ax.set_ylabel(cbarlabel, rotation=-90, va=\"bottom\")\n",
        "\n",
        "    # Let the horizontal axes labeling appear on top.\n",
        "    ax.tick_params(top=True, bottom=False,\n",
        "                   labeltop=True, labelbottom=False)\n",
        "    # We want to show all ticks...\n",
        "    ax.set_xticks(np.arange(data.shape[1]))\n",
        "    ax.set_yticks(np.arange(data.shape[0]))\n",
        "    # ... and label them with the respective list entries.\n",
        "    ax.set_xticklabels(col_labels)\n",
        "    ax.set_yticklabels(row_labels)\n",
        "    \n",
        "    ax.set_xlabel('Predicted Label') \n",
        "    ax.set_ylabel('True Label')\n",
        "    \n",
        "    return im, cbar\n",
        "\n",
        "def annotate_heatmap(im, data=None, fmt=\"d\", threshold=None):\n",
        "    \"\"\"\n",
        "    A function to annotate a heatmap.\n",
        "    \"\"\"\n",
        "    # Change the text's color depending on the data.\n",
        "    texts = []\n",
        "    for i in range(data.shape[0]):\n",
        "        for j in range(data.shape[1]):\n",
        "            text = im.axes.text(j, i, format(data[i, j], fmt), horizontalalignment=\"center\",\n",
        "                                 color=\"white\" if data[i, j] > thresh else \"black\")\n",
        "            texts.append(text)\n",
        "\n",
        "    return texts"
      ],
      "metadata": {
        "id": "8ucNL-XLfu69"
      },
      "execution_count": 87,
      "outputs": []
    },
    {
      "cell_type": "code",
      "source": [
        "from sklearn.metrics import confusion_matrix, classification_report\n",
        "\n",
        "labels = ['Airplane', 'Automobile', 'Bird', 'Cat', 'Deer', 'Dog', 'Frog', 'Horse', 'Ship', 'Truck']\n",
        "\n",
        "# Convert predictions classes to one hot vectors \n",
        "Y_pred_classes = np.argmax(pred, axis=1) \n",
        "print(Y_pred_classes)\n",
        "# Convert validation observations to one hot vectors\n",
        "Y_true = np.squeeze(y_test.T)#np.argmax(y_test, axis=1)\n",
        "print(Y_true, np.squeeze(y_test.T))\n",
        "# Errors are difference between predicted labels and true labels\n",
        "errors = (Y_pred_classes - Y_true != 0)\n",
        "\n",
        "Y_pred_classes_errors = Y_pred_classes[errors]\n",
        "Y_pred_errors = pred[errors]\n",
        "Y_true_errors = Y_true[errors]\n",
        "X_test_errors = x_test[errors]\n",
        "\n",
        "cm = confusion_matrix(Y_true, Y_pred_classes) \n",
        "thresh = cm.max() / 2.\n",
        "\n",
        "fig, ax = plt.subplots(figsize=(12,12))\n",
        "im, cbar = heatmap(cm, labels, labels, ax=ax,\n",
        "                   cmap=plt.cm.Blues, cbarlabel=\"count of predictions\")\n",
        "texts = annotate_heatmap(im, data=cm, threshold=thresh)\n",
        "\n",
        "fig.tight_layout()\n",
        "plt.show()"
      ],
      "metadata": {
        "colab": {
          "base_uri": "https://localhost:8080/",
          "height": 908
        },
        "id": "KO1eA5J_fSN5",
        "outputId": "15ac3c94-e1a0-401b-8781-fb4c0b4778f8"
      },
      "execution_count": 108,
      "outputs": [
        {
          "output_type": "stream",
          "name": "stdout",
          "text": [
            "[9 8 1 ... 5 1 7]\n",
            "[3 8 8 ... 5 1 7] [3 8 8 ... 5 1 7]\n"
          ]
        },
        {
          "output_type": "display_data",
          "data": {
            "text/plain": [
              "<Figure size 864x864 with 2 Axes>"
            ],
            "image/png": "[encoded data removed]"
          },
          "metadata": {
            "needs_background": "light"
          }
        }
      ]
    },
    {
      "cell_type": "code",
      "source": [
        "labels,x = np.unique(pred, return_counts=True)\n",
        "print(labels,x)\n",
        "\n",
        "res = tf.math.confusion_matrix(labels, pred[1])\n",
        " \n",
        "# Printing the result\n",
        "print('Confusion_matrix: ',res)"
      ],
      "metadata": {
        "colab": {
          "base_uri": "https://localhost:8080/",
          "height": 415
        },
        "id": "qHc9jUkOgb-c",
        "outputId": "a6e5a1e7-cb17-4d96-d3c8-0c07314acb27"
      },
      "execution_count": 93,
      "outputs": [
        {
          "output_type": "stream",
          "name": "stdout",
          "text": [
            "[1.1317670e-21 4.2530339e-21 2.0876588e-20 ... 9.9999976e-01 9.9999988e-01\n",
            " 1.0000000e+00] [ 1  1  1 ...  2  7 10]\n"
          ]
        },
        {
          "output_type": "error",
          "ename": "InvalidArgumentError",
          "evalue": "ignored",
          "traceback": [
            "\u001b[0;31m---------------------------------------------------------------------------\u001b[0m",
            "\u001b[0;31mInvalidArgumentError\u001b[0m                      Traceback (most recent call last)",
            "\u001b[0;32m<ipython-input-93-0f1447816705>\u001b[0m in \u001b[0;36m<module>\u001b[0;34m\u001b[0m\n\u001b[1;32m      2\u001b[0m \u001b[0mprint\u001b[0m\u001b[0;34m(\u001b[0m\u001b[0mlabels\u001b[0m\u001b[0;34m,\u001b[0m\u001b[0mx\u001b[0m\u001b[0;34m)\u001b[0m\u001b[0;34m\u001b[0m\u001b[0;34m\u001b[0m\u001b[0m\n\u001b[1;32m      3\u001b[0m \u001b[0;34m\u001b[0m\u001b[0m\n\u001b[0;32m----> 4\u001b[0;31m \u001b[0mres\u001b[0m \u001b[0;34m=\u001b[0m \u001b[0mtf\u001b[0m\u001b[0;34m.\u001b[0m\u001b[0mmath\u001b[0m\u001b[0;34m.\u001b[0m\u001b[0mconfusion_matrix\u001b[0m\u001b[0;34m(\u001b[0m\u001b[0mlabels\u001b[0m\u001b[0;34m,\u001b[0m \u001b[0mpred\u001b[0m\u001b[0;34m[\u001b[0m\u001b[0;36m1\u001b[0m\u001b[0;34m]\u001b[0m\u001b[0;34m)\u001b[0m\u001b[0;34m\u001b[0m\u001b[0;34m\u001b[0m\u001b[0m\n\u001b[0m\u001b[1;32m      5\u001b[0m \u001b[0;34m\u001b[0m\u001b[0m\n\u001b[1;32m      6\u001b[0m \u001b[0;31m# Printing the result\u001b[0m\u001b[0;34m\u001b[0m\u001b[0;34m\u001b[0m\u001b[0;34m\u001b[0m\u001b[0m\n",
            "\u001b[0;32m/usr/local/lib/python3.8/dist-packages/tensorflow/python/util/traceback_utils.py\u001b[0m in \u001b[0;36merror_handler\u001b[0;34m(*args, **kwargs)\u001b[0m\n\u001b[1;32m    151\u001b[0m     \u001b[0;32mexcept\u001b[0m \u001b[0mException\u001b[0m \u001b[0;32mas\u001b[0m \u001b[0me\u001b[0m\u001b[0;34m:\u001b[0m\u001b[0;34m\u001b[0m\u001b[0;34m\u001b[0m\u001b[0m\n\u001b[1;32m    152\u001b[0m       \u001b[0mfiltered_tb\u001b[0m \u001b[0;34m=\u001b[0m \u001b[0m_process_traceback_frames\u001b[0m\u001b[0;34m(\u001b[0m\u001b[0me\u001b[0m\u001b[0;34m.\u001b[0m\u001b[0m__traceback__\u001b[0m\u001b[0;34m)\u001b[0m\u001b[0;34m\u001b[0m\u001b[0;34m\u001b[0m\u001b[0m\n\u001b[0;32m--> 153\u001b[0;31m       \u001b[0;32mraise\u001b[0m \u001b[0me\u001b[0m\u001b[0;34m.\u001b[0m\u001b[0mwith_traceback\u001b[0m\u001b[0;34m(\u001b[0m\u001b[0mfiltered_tb\u001b[0m\u001b[0;34m)\u001b[0m \u001b[0;32mfrom\u001b[0m \u001b[0;32mNone\u001b[0m\u001b[0;34m\u001b[0m\u001b[0;34m\u001b[0m\u001b[0m\n\u001b[0m\u001b[1;32m    154\u001b[0m     \u001b[0;32mfinally\u001b[0m\u001b[0;34m:\u001b[0m\u001b[0;34m\u001b[0m\u001b[0;34m\u001b[0m\u001b[0m\n\u001b[1;32m    155\u001b[0m       \u001b[0;32mdel\u001b[0m \u001b[0mfiltered_tb\u001b[0m\u001b[0;34m\u001b[0m\u001b[0;34m\u001b[0m\u001b[0m\n",
            "\u001b[0;32m/usr/local/lib/python3.8/dist-packages/tensorflow/python/framework/ops.py\u001b[0m in \u001b[0;36mraise_from_not_ok_status\u001b[0;34m(e, name)\u001b[0m\n\u001b[1;32m   7162\u001b[0m \u001b[0;32mdef\u001b[0m \u001b[0mraise_from_not_ok_status\u001b[0m\u001b[0;34m(\u001b[0m\u001b[0me\u001b[0m\u001b[0;34m,\u001b[0m \u001b[0mname\u001b[0m\u001b[0;34m)\u001b[0m\u001b[0;34m:\u001b[0m\u001b[0;34m\u001b[0m\u001b[0;34m\u001b[0m\u001b[0m\n\u001b[1;32m   7163\u001b[0m   \u001b[0me\u001b[0m\u001b[0;34m.\u001b[0m\u001b[0mmessage\u001b[0m \u001b[0;34m+=\u001b[0m \u001b[0;34m(\u001b[0m\u001b[0;34m\" name: \"\u001b[0m \u001b[0;34m+\u001b[0m \u001b[0mname\u001b[0m \u001b[0;32mif\u001b[0m \u001b[0mname\u001b[0m \u001b[0;32mis\u001b[0m \u001b[0;32mnot\u001b[0m \u001b[0;32mNone\u001b[0m \u001b[0;32melse\u001b[0m \u001b[0;34m\"\"\u001b[0m\u001b[0;34m)\u001b[0m\u001b[0;34m\u001b[0m\u001b[0;34m\u001b[0m\u001b[0m\n\u001b[0;32m-> 7164\u001b[0;31m   \u001b[0;32mraise\u001b[0m \u001b[0mcore\u001b[0m\u001b[0;34m.\u001b[0m\u001b[0m_status_to_exception\u001b[0m\u001b[0;34m(\u001b[0m\u001b[0me\u001b[0m\u001b[0;34m)\u001b[0m \u001b[0;32mfrom\u001b[0m \u001b[0;32mNone\u001b[0m  \u001b[0;31m# pylint: disable=protected-access\u001b[0m\u001b[0;34m\u001b[0m\u001b[0;34m\u001b[0m\u001b[0m\n\u001b[0m\u001b[1;32m   7165\u001b[0m \u001b[0;34m\u001b[0m\u001b[0m\n\u001b[1;32m   7166\u001b[0m \u001b[0;34m\u001b[0m\u001b[0m\n",
            "\u001b[0;31mInvalidArgumentError\u001b[0m: Shapes of all inputs must match: values[0].shape = [99918] != values[1].shape = [10] [Op:Pack] name: stack"
          ]
        }
      ]
    },
    {
      "cell_type": "code",
      "source": [
        "from sklearn.metrics import classification_report\n",
        "\n",
        "print(classification_report(y_test, pred[0]))"
      ],
      "metadata": {
        "colab": {
          "base_uri": "https://localhost:8080/",
          "height": 345
        },
        "id": "GC0wB9NBiSu6",
        "outputId": "2d2e5f99-ad79-4fac-d0a8-0e697b899c00"
      },
      "execution_count": 96,
      "outputs": [
        {
          "output_type": "error",
          "ename": "ValueError",
          "evalue": "ignored",
          "traceback": [
            "\u001b[0;31m---------------------------------------------------------------------------\u001b[0m",
            "\u001b[0;31mValueError\u001b[0m                                Traceback (most recent call last)",
            "\u001b[0;32m<ipython-input-96-57c50d5a1ae9>\u001b[0m in \u001b[0;36m<module>\u001b[0;34m\u001b[0m\n\u001b[1;32m      1\u001b[0m \u001b[0;32mfrom\u001b[0m \u001b[0msklearn\u001b[0m\u001b[0;34m.\u001b[0m\u001b[0mmetrics\u001b[0m \u001b[0;32mimport\u001b[0m \u001b[0mclassification_report\u001b[0m\u001b[0;34m\u001b[0m\u001b[0;34m\u001b[0m\u001b[0m\n\u001b[1;32m      2\u001b[0m \u001b[0;34m\u001b[0m\u001b[0m\n\u001b[0;32m----> 3\u001b[0;31m \u001b[0mprint\u001b[0m\u001b[0;34m(\u001b[0m\u001b[0mclassification_report\u001b[0m\u001b[0;34m(\u001b[0m\u001b[0my_test\u001b[0m\u001b[0;34m,\u001b[0m \u001b[0mpred\u001b[0m\u001b[0;34m[\u001b[0m\u001b[0;36m0\u001b[0m\u001b[0;34m]\u001b[0m\u001b[0;34m)\u001b[0m\u001b[0;34m)\u001b[0m\u001b[0;34m\u001b[0m\u001b[0;34m\u001b[0m\u001b[0m\n\u001b[0m",
            "\u001b[0;32m/usr/local/lib/python3.8/dist-packages/sklearn/metrics/_classification.py\u001b[0m in \u001b[0;36mclassification_report\u001b[0;34m(y_true, y_pred, labels, target_names, sample_weight, digits, output_dict, zero_division)\u001b[0m\n\u001b[1;32m   2108\u001b[0m     \"\"\"\n\u001b[1;32m   2109\u001b[0m \u001b[0;34m\u001b[0m\u001b[0m\n\u001b[0;32m-> 2110\u001b[0;31m     \u001b[0my_type\u001b[0m\u001b[0;34m,\u001b[0m \u001b[0my_true\u001b[0m\u001b[0;34m,\u001b[0m \u001b[0my_pred\u001b[0m \u001b[0;34m=\u001b[0m \u001b[0m_check_targets\u001b[0m\u001b[0;34m(\u001b[0m\u001b[0my_true\u001b[0m\u001b[0;34m,\u001b[0m \u001b[0my_pred\u001b[0m\u001b[0;34m)\u001b[0m\u001b[0;34m\u001b[0m\u001b[0;34m\u001b[0m\u001b[0m\n\u001b[0m\u001b[1;32m   2111\u001b[0m \u001b[0;34m\u001b[0m\u001b[0m\n\u001b[1;32m   2112\u001b[0m     \u001b[0;32mif\u001b[0m \u001b[0mlabels\u001b[0m \u001b[0;32mis\u001b[0m \u001b[0;32mNone\u001b[0m\u001b[0;34m:\u001b[0m\u001b[0;34m\u001b[0m\u001b[0;34m\u001b[0m\u001b[0m\n",
            "\u001b[0;32m/usr/local/lib/python3.8/dist-packages/sklearn/metrics/_classification.py\u001b[0m in \u001b[0;36m_check_targets\u001b[0;34m(y_true, y_pred)\u001b[0m\n\u001b[1;32m     82\u001b[0m     \u001b[0my_pred\u001b[0m \u001b[0;34m:\u001b[0m \u001b[0marray\u001b[0m \u001b[0;32mor\u001b[0m \u001b[0mindicator\u001b[0m \u001b[0mmatrix\u001b[0m\u001b[0;34m\u001b[0m\u001b[0;34m\u001b[0m\u001b[0m\n\u001b[1;32m     83\u001b[0m     \"\"\"\n\u001b[0;32m---> 84\u001b[0;31m     \u001b[0mcheck_consistent_length\u001b[0m\u001b[0;34m(\u001b[0m\u001b[0my_true\u001b[0m\u001b[0;34m,\u001b[0m \u001b[0my_pred\u001b[0m\u001b[0;34m)\u001b[0m\u001b[0;34m\u001b[0m\u001b[0;34m\u001b[0m\u001b[0m\n\u001b[0m\u001b[1;32m     85\u001b[0m     \u001b[0mtype_true\u001b[0m \u001b[0;34m=\u001b[0m \u001b[0mtype_of_target\u001b[0m\u001b[0;34m(\u001b[0m\u001b[0my_true\u001b[0m\u001b[0;34m)\u001b[0m\u001b[0;34m\u001b[0m\u001b[0;34m\u001b[0m\u001b[0m\n\u001b[1;32m     86\u001b[0m     \u001b[0mtype_pred\u001b[0m \u001b[0;34m=\u001b[0m \u001b[0mtype_of_target\u001b[0m\u001b[0;34m(\u001b[0m\u001b[0my_pred\u001b[0m\u001b[0;34m)\u001b[0m\u001b[0;34m\u001b[0m\u001b[0;34m\u001b[0m\u001b[0m\n",
            "\u001b[0;32m/usr/local/lib/python3.8/dist-packages/sklearn/utils/validation.py\u001b[0m in \u001b[0;36mcheck_consistent_length\u001b[0;34m(*arrays)\u001b[0m\n\u001b[1;32m    330\u001b[0m     \u001b[0muniques\u001b[0m \u001b[0;34m=\u001b[0m \u001b[0mnp\u001b[0m\u001b[0;34m.\u001b[0m\u001b[0munique\u001b[0m\u001b[0;34m(\u001b[0m\u001b[0mlengths\u001b[0m\u001b[0;34m)\u001b[0m\u001b[0;34m\u001b[0m\u001b[0;34m\u001b[0m\u001b[0m\n\u001b[1;32m    331\u001b[0m     \u001b[0;32mif\u001b[0m \u001b[0mlen\u001b[0m\u001b[0;34m(\u001b[0m\u001b[0muniques\u001b[0m\u001b[0;34m)\u001b[0m \u001b[0;34m>\u001b[0m \u001b[0;36m1\u001b[0m\u001b[0;34m:\u001b[0m\u001b[0;34m\u001b[0m\u001b[0;34m\u001b[0m\u001b[0m\n\u001b[0;32m--> 332\u001b[0;31m         raise ValueError(\n\u001b[0m\u001b[1;32m    333\u001b[0m             \u001b[0;34m\"Found input variables with inconsistent numbers of samples: %r\"\u001b[0m\u001b[0;34m\u001b[0m\u001b[0;34m\u001b[0m\u001b[0m\n\u001b[1;32m    334\u001b[0m             \u001b[0;34m%\u001b[0m \u001b[0;34m[\u001b[0m\u001b[0mint\u001b[0m\u001b[0;34m(\u001b[0m\u001b[0ml\u001b[0m\u001b[0;34m)\u001b[0m \u001b[0;32mfor\u001b[0m \u001b[0ml\u001b[0m \u001b[0;32min\u001b[0m \u001b[0mlengths\u001b[0m\u001b[0;34m]\u001b[0m\u001b[0;34m\u001b[0m\u001b[0;34m\u001b[0m\u001b[0m\n",
            "\u001b[0;31mValueError\u001b[0m: Found input variables with inconsistent numbers of samples: [10000, 10]"
          ]
        }
      ]
    }
  ]
}